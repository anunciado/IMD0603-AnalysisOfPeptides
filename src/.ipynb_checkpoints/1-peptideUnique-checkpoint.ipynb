{
 "cells": [
  {
   "cell_type": "code",
   "execution_count": 18,
   "metadata": {
    "collapsed": true
   },
   "outputs": [],
   "source": [
    "import pandas as pd\n",
    "import numpy as p\n",
    "import multiprocessing\n",
    "from pandas import Series, DataFrame\n",
    "from itertools import repeat\n",
    "from multiprocessing import Pool, freeze_support\n",
    "import operator"
   ]
  },
  {
   "cell_type": "code",
   "execution_count": 19,
   "metadata": {},
   "outputs": [],
   "source": [
    "'''Ler o arquivo de peptidios e o salva em uma dataframe, retira colunas não importantes para o problema \n",
    "'''\n",
    "nucleotides = pd.read_csv(\"../input/Immuneevidence.txt\", sep='\\t')\n",
    "nucleotides.drop('Length', axis=1, inplace=True)\n",
    "nucleotides.drop('Modifications', axis=1, inplace=True) \n",
    "nucleotides.drop('Acetyl (Protein N-term)', axis=1, inplace=True)\n",
    "nucleotides.drop('Oxidation (M)', axis=1, inplace=True)\n",
    "nucleotides.drop('Missed cleavages', axis=1, inplace=True)\n",
    "nucleotides.drop('Raw file', axis=1, inplace=True)\n",
    "nucleotides.drop('Fraction', axis=1, inplace=True)\n",
    "nucleotides.drop('Experiment', axis=1, inplace=True) \n",
    "nucleotides.drop('Charge', axis=1, inplace=True)\n",
    "nucleotides.drop('m/z', axis=1, inplace=True)\n",
    "nucleotides.drop('Mass', axis=1, inplace=True)\n",
    "nucleotides.drop('Mass Error [ppm]', axis=1, inplace=True)\n",
    "nucleotides.drop('Mass Error [Da]', axis=1, inplace=True)\n",
    "nucleotides.drop('PEP', axis=1, inplace=True)\n",
    "nucleotides.drop('Score', axis=1, inplace=True)\n",
    "nucleotides.drop('Intensity', axis=1, inplace=True)\n",
    "proteins = pd.read_csv(\"../result/processData.csv\", sep='\\t')"
   ]
  },
  {
   "cell_type": "code",
   "execution_count": 20,
   "metadata": {
    "scrolled": true
   },
   "outputs": [
    {
     "name": "stdout",
     "output_type": "stream",
     "text": [
      "                 Sequence\n",
      "0  AAAAAAAAAAAAAAAGAGAGAK\n",
      "1        AAAAAAAAAAGAAGGR\n",
      "2        AAAAAAAAAAGAAGGR\n",
      "3        AAAAAAAAAAGAAGGR\n",
      "4        AAAAAAAAAAGAAGGR\n"
     ]
    }
   ],
   "source": [
    "print (nucleotides.head())"
   ]
  },
  {
   "cell_type": "code",
   "execution_count": 15,
   "metadata": {},
   "outputs": [
    {
     "name": "stdout",
     "output_type": "stream",
     "text": [
      "(106359, 1)\n"
     ]
    }
   ],
   "source": [
    "print (nucleotides.shape)"
   ]
  },
  {
   "cell_type": "code",
   "execution_count": 16,
   "metadata": {},
   "outputs": [
    {
     "name": "stdout",
     "output_type": "stream",
     "text": [
      "  Protein ID                                           Sequence\n",
      "0     P31946  MTMDKSELVQKAKLAEQAERYDDMAAAMKAVTEQGHELSNEERNLL...\n",
      "1     P04439  MAVMAPRTLLLLLSGALALTQTWAGSHSMRYFFTSVSRPGRGEPRF...\n",
      "2     P01889  MLVMAPRTVLLLLSAALALTETWAGSHSMRYFYTSVSRPGRGEPRF...\n",
      "3     P30464  MRVTAPRTVLLLLSGALALTETWAGSHSMRYFYTAMSRPGRGEPRF...\n",
      "4     P30685  MRVTAPRTVLLLLWGAVALTETWAGSHSMRYFYTAMSRPGRGEPRF...\n"
     ]
    }
   ],
   "source": [
    "print (proteins.head())"
   ]
  },
  {
   "cell_type": "code",
   "execution_count": 17,
   "metadata": {},
   "outputs": [
    {
     "name": "stdout",
     "output_type": "stream",
     "text": [
      "(70610, 2)\n"
     ]
    }
   ],
   "source": [
    "print (proteins.shape)"
   ]
  },
  {
   "cell_type": "code",
   "execution_count": 7,
   "metadata": {},
   "outputs": [],
   "source": [
    "'''Retira-se a redudância de peptidios no banco lido no programa e adciona-se uma coluna\n",
    "chamada 'Frequency' onde será disposto sua frequência, logo após o dataframe será convertido\n",
    "para dicionário para ser mais rápido a execução futura de paralelismo.\n",
    "'''\n",
    "nucleotides['Frequency'] = nucleotides.groupby('Sequence')['Sequence'].transform('count')\n",
    "nucleotides = nucleotides.drop_duplicates('Sequence').reset_index(drop=True)\n",
    "nucleotides = Series(nucleotides.Frequency.values,index=nucleotides.Sequence).to_dict()\n",
    "#Só pegar os cinquenta primeiros peptidios da amostra passada\n",
    "#nucleotidesTest = dict(sorted(nucleotides.items(), key=operator.itemgetter(1), reverse=False)[:50])\n",
    "proteins = Series(proteins['Protein ID'].values,index=proteins.Sequence).to_dict()\n",
    "proteins = list(proteins.items())"
   ]
  },
  {
   "cell_type": "code",
   "execution_count": 8,
   "metadata": {
    "collapsed": true
   },
   "outputs": [],
   "source": [
    "'''Função que dado uma proteina e um peptidio, se o peptidio estiver contido na proteina, será retornado\n",
    "uma lista com id da proteina, sua posição inicial e final.\n",
    "'''\n",
    "def findNucleotide(protein, nucleotide):\n",
    "    sequenceProtein, idp = protein\n",
    "    if nucleotide in sequenceProtein:\n",
    "        return idp"
   ]
  },
  {
   "cell_type": "code",
   "execution_count": 9,
   "metadata": {},
   "outputs": [],
   "source": [
    "'''Loop onde para cada peptidio será buscado em quantas proteinas está contido usando paralelismo.\n",
    "'''\n",
    "for nucleotide, frequency in nucleotides.items():\n",
    "    with multiprocessing.Pool(processes=20) as pool:\n",
    "        results = pool.starmap(findNucleotide, zip(proteins, repeat(nucleotide)))\n",
    "        for i in range(results.count(None)): results.remove(None)\n",
    "        nucleotides[nucleotide] = results\n",
    "        results = []"
   ]
  },
  {
   "cell_type": "code",
   "execution_count": 10,
   "metadata": {},
   "outputs": [],
   "source": [
    "'''Será transformado o dicionário em dataframe, onde as colunas são: a sequência do peptídio, a posição de ínicio \n",
    "desse peptídio na proteina que a contem, a posição do fim desse peptídio na proteina que a contem e sua frequência\n",
    "no arquivo de origem\n",
    "'''\n",
    "df = pd.DataFrame(columns=['Nucleotide', 'Protein ID'])\n",
    "for nucleotide, proteins in nucleotides.items():\n",
    "    if len(proteins) == 1:\n",
    "        for protein in proteins:\n",
    "            df = df.append({'Nucleotide': nucleotide, 'Protein ID': protein}, ignore_index=True)\n",
    "    "
   ]
  },
  {
   "cell_type": "code",
   "execution_count": 11,
   "metadata": {},
   "outputs": [],
   "source": [
    "df.to_csv(\"../result/intersectEvidence3.csv\", sep='\\t', index=False)"
   ]
  }
 ],
 "metadata": {
  "kernelspec": {
   "display_name": "Python 3",
   "language": "python",
   "name": "python3"
  },
  "language_info": {
   "codemirror_mode": {
    "name": "ipython",
    "version": 3
   },
   "file_extension": ".py",
   "mimetype": "text/x-python",
   "name": "python",
   "nbconvert_exporter": "python",
   "pygments_lexer": "ipython3",
   "version": "3.6.1"
  }
 },
 "nbformat": 4,
 "nbformat_minor": 2
}
