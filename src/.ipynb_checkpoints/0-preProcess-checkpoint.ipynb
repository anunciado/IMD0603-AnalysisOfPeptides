{
 "cells": [
  {
   "cell_type": "code",
   "execution_count": 1,
   "metadata": {
    "collapsed": true
   },
   "outputs": [],
   "source": [
    "import pandas as pd\n",
    "import numpy as p\n",
    "from pandas import Series, DataFrame"
   ]
  },
  {
   "cell_type": "code",
   "execution_count": 2,
   "metadata": {
    "collapsed": true
   },
   "outputs": [],
   "source": [
    "'''Ler o arquivo de entrada do banco de proteinas e salva em um .csv onde a primeira coluna\n",
    "é os ID das Proteinas dos bancos de proteinas e a segunda coluna é as sequências propriamente\n",
    "ditas.\n",
    "'''\n",
    "def readDatabase():\n",
    "    database = dict()\n",
    "    labelData = ''\n",
    "    labelData2 = ''\n",
    "    with open(\"../input/uniprot-human.fasta\", 'r') as infile:\n",
    "        sequenceData = '' \n",
    "        for line in infile:\n",
    "            if(line[0]=='>'):\n",
    "                labelData2 = line[1:].split('|')[1]\n",
    "                if(sequenceData):\n",
    "                    database[labelData] = sequenceData\n",
    "                sequenceData = ''\n",
    "                labelData = labelData2\n",
    "            else:\n",
    "                sequenceData += line.strip('\\n')\n",
    "    return database"
   ]
  },
  {
   "cell_type": "code",
   "execution_count": 3,
   "metadata": {},
   "outputs": [
    {
     "name": "stderr",
     "output_type": "stream",
     "text": [
      "IOPub data rate exceeded.\n",
      "The notebook server will temporarily stop sending output\n",
      "to the client in order to avoid crashing it.\n",
      "To change this limit, set the config variable\n",
      "`--NotebookApp.iopub_data_rate_limit`.\n"
     ]
    }
   ],
   "source": [
    "database = readDatabase()\n",
    "print (database)"
   ]
  },
  {
   "cell_type": "code",
   "execution_count": 4,
   "metadata": {},
   "outputs": [
    {
     "name": "stdout",
     "output_type": "stream",
     "text": [
      "       Protein ID                                           Sequence\n",
      "0          P31946  MTMDKSELVQKAKLAEQAERYDDMAAAMKAVTEQGHELSNEERNLL...\n",
      "1          P04439  MAVMAPRTLLLLLSGALALTQTWAGSHSMRYFFTSVSRPGRGEPRF...\n",
      "2          P01889  MLVMAPRTVLLLLSAALALTETWAGSHSMRYFYTSVSRPGRGEPRF...\n",
      "3          P30464  MRVTAPRTVLLLLSGALALTETWAGSHSMRYFYTAMSRPGRGEPRF...\n",
      "4          P30685  MRVTAPRTVLLLLWGAVALTETWAGSHSMRYFYTAMSRPGRGEPRF...\n",
      "5          Q95365  MLVMAPRTVLLLLSAALALTETWAGSHSMRYFYTSVSRPGRGEPRF...\n",
      "6          Q04826  MRVTAPRTLLLLLWGAVALTETWAGSHSMRYFHTSVSRPGRGEPRF...\n",
      "7          P30484  MRVTAPRTVLLLLSGALALTETWAGSHSMRYFYTAMSRPGRGEPRF...\n",
      "8          P30492  MRVTAPRTLLLLLWGALALTETWAGSHSMRYFYTAMSRPGRGEPRF...\n",
      "9          P30493  MRVTAPRTLLLLLWGALALTETWAGSHSMRYFYTAMSRPGRGEPRF...\n",
      "10         P18465  MRVTAPRTVLLLLWGAVALTETWAGSHSMRYFYTAMSRPGRGEPRF...\n",
      "11         Q29836  MLVMAPRTVLLLLSAALALTETWAGSHSMRYFYTSVSRPGRGEPRF...\n",
      "12         Q31610  MLVMAPRTVLLLLWGAVALTETWAGSHSMRYFYTSVSRPGRGEPRF...\n",
      "13         P30499  MRVMEPRTLILLLSGALALTETWACSHSMKYFFTSVSRPGRGEPRF...\n",
      "14         Q29865  MRVMAPRALLLLLSGGLALTETWACSHSMRYFDTAVSRPGRGEPRF...\n",
      "15         P14060  MTGWSCLVTGAGGFLGQRIIRLLVKEKELKEIRVLDKAFGPELREE...\n",
      "16         P26439  MGWSCLVTGAGGLLGQRIVRLLVEEKELKEIRALDKAFRPELREEF...\n",
      "17         Q9Y3L3  MMKRQLHRMRQLAQTGSLGRTPETAEFLGEDLLQVEQRLEPAKRAA...\n",
      "18         P78314  MAAEEMHWPVPMKAIGAQNLLTMPGGVAKAGYLHKKGGTQLQLLKW...\n",
      "19         P29372  MVTPALQMKKPKQFCRRMGQKKQRPARAGQPHSSSDAAQAPAEQPH...\n",
      "20         P28566  MNITNCTTEASMAIRPKTITEKMLICMTLVVITTLTTLLNLAVIMA...\n",
      "21         Q8NAA4  MAGPGVPGAPAARWKRHIVRQLRLRDRTQKALFLELVPAYNHLLEK...\n",
      "22         P01009  MPSSVSWGILLLAGLCCLVPVSLAEDPQGDAAQKTDTSHHDQDHPT...\n",
      "23         P29274  MPIMGSSVYITVELAIAVLAILGNVLVCWAVWLNSNLQNVTNYFVV...\n",
      "24         P29275  MLLETQDALYVALELVIAALSVAGNVLVCAAVGTANTLQTPTNYFL...\n",
      "25         Q9NRG9  MCSLGLFPPPPPRGQVTLYEHNNELVTGSSYESPPPDFRGQWINLP...\n",
      "26         P31941  MEASPASGPRHLMDPHIFTSNFNNGIGRHKTYLCYEVERLDNGTSV...\n",
      "27         O94911  MRKRKISVCQQTWALLCKNFLKKWRMKRESLMEWLNSLLLLLCLYI...\n",
      "28         Q9NUT2  MLVHLFRVGIRGGPFPGRLLPPLRFQTFSAVRNTWRNGKTGQLHKA...\n",
      "29         Q9NRK6  MRGPPAWPLRLLEPPSPAEPGRLLPVACVWAAASRVPGSLSPFTGL...\n",
      "...           ...                                                ...\n",
      "70580      H7BXH6  MVSTPENRQTFITSVIKFLRQYEFDGLDFDWEYPGSRGSPPQDKHL...\n",
      "70581  A0A0J9YWD1  MKLCVTVLSLLVLVAAFCSLALSAPTKSSEWKLQGVCFQCCSRKDP...\n",
      "70582      K7EN56  ETSSSKVKAKTIVMIPDSQKLLRCELESLKSQLQAQTKAFEFLNHS...\n",
      "70583  A0A087WU02  MKEEEGFPEDEATESEKTLSLVKELDAFPKVPESYVETSASGGTVS...\n",
      "70584      C9JPK8  MEAHEIIEEPHITMDAEKHPPSKDPSAEDLQENHISESFLKPSTSE...\n",
      "70585      G3V5Z4                     MRPWTGSWRWIMLILFAWGTLLFYIGGHLV\n",
      "70586  A0A075B732  XPPLKNVSSNAECPACYESNGTSCHGKPWKCYEEEQCVFLVAELKN...\n",
      "70587      H3BSQ8  MGCSWRKTLSFFLVFVPIYLHGASSQEAAPVGPRKPFFERLRRLEE...\n",
      "70588      D6RAP7  MAVNGCLEGPSSNFLSCLFIVALVGSESTHPLCLEQPATQRCGLAM...\n",
      "70589      D6RHF6  MAATLGSGERWTEAYIDAVRRNKYPEDTPPESHDPCGCCNCMKAQK...\n",
      "70590      F8W946  MDSQKEALQRIISTLANKNDEIQNFIDTLHHTLKGVQENSSNILSE...\n",
      "70591  A0A087X014  RLKELKQREFARNVASKSRKDERKQEKALQRLHKLAELRKETVCAP...\n",
      "70592      C9JCZ4                 MPLLENLMRFSMMFGYCLIMTIFSGKEQPMHLHS\n",
      "70593  A0A0G2JNC2  MGCCGCSGGCGSGCGGCGSGCGGCGSGCCVPICCCKPVCCCVPACS...\n",
      "70594  A0A0U1RQC5  MSSTLHSVFFTLKVSILLGSLLGLCLGLEFMGLPNQWARYLRWDAS...\n",
      "70595      G3V1M2  MADPDPRYPRSSIEDDFNYGSSVASATVHIRMAFLRKVYSILSLQV...\n",
      "70596      H0Y5B2  XLVPCLNDCGPYGQCLLLRRHSYLYASCSCKAGWRGWSCTDNSTAQ...\n",
      "70597      F5H739                              MPEVVEKEDYSEIIGSMGEAL\n",
      "70598      K7ERQ3  XWMLLTGKLWEMLAYVLLPLLYLLVRKHINRAGIGNTFQGGANCIM...\n",
      "70599  A0A0D9SFZ8  MALSVLRLALLLLAVTFAGSARSGPGERGPPEKSGFGSQTGGGPCP...\n",
      "70600      F8W8N9  MEAHEIIEEPHITMDAEKHPPSKDPSAEDLQENHISESFLKPSTSE...\n",
      "70601      F6WC43  MASMSIVKATSNTISQCGWSASANWTPSISPSMDRGERSPSALSPT...\n",
      "70602  A0A0U1RQX4  SAQESVITRDIHRTFPAHDYFKDTGGDGQESLYKICKAYSVYDEDI...\n",
      "70603      E9PQS5  MDYDSYQHYFYDYDCGEDFYRSTAPSEDIWKKFELVPSPPTSPPWG...\n",
      "70604      E9PR99  MLRGVLGKTFRLVGYTIQYGCIAHCAFEYVGGVVMVPMGHVWLEGD...\n",
      "70605  A0A0C4DFM7  MEESKTLKSENHEPKKNVICEESKAVQVIGNQTLKARNDKSVKEIE...\n",
      "70606      J9JIE5  MLSLKKYLTEGLLQFTILLSLIGVRVDVDTYLTSQLPPLREIILGP...\n",
      "70607      E5RFJ6  MGDSPGGAAILGLAGKLRRVWRESLPPIQALRSHFLGQPRLSGGSP...\n",
      "70608      H0YG53          XLRIEAKERVKSVFHAREFGKIINFKTPEDARVNIINLLFK\n",
      "70609      H7C4Y6  LCRLINEDVNEQVMQVLGPEDLQSIIYKLEEHEEFFPAFQAFTNDL...\n",
      "\n",
      "[70610 rows x 2 columns]\n"
     ]
    }
   ],
   "source": [
    "sf = Series(database,index=database.keys())\n",
    "df = pd.DataFrame({'Protein ID':sf.index, 'Sequence':sf.values})\n",
    "print (df)"
   ]
  },
  {
   "cell_type": "code",
   "execution_count": 5,
   "metadata": {
    "collapsed": true
   },
   "outputs": [],
   "source": [
    "df.to_csv(\"../result/processData.csv\", sep='\\t', index=False)"
   ]
  }
 ],
 "metadata": {
  "kernelspec": {
   "display_name": "Python 3",
   "language": "python",
   "name": "python3"
  },
  "language_info": {
   "codemirror_mode": {
    "name": "ipython",
    "version": 3
   },
   "file_extension": ".py",
   "mimetype": "text/x-python",
   "name": "python",
   "nbconvert_exporter": "python",
   "pygments_lexer": "ipython3",
   "version": "3.6.1"
  }
 },
 "nbformat": 4,
 "nbformat_minor": 2
}
